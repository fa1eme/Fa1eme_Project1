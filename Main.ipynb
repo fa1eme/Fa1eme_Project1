
{
  "cells": [
    {
      "cell_type": "markdown",
      "metadata": {
        "id": "iMLnQ0wMjDf9"
      },
      "source": [
        "Model"
      ]
    },
    {
      "cell_type": "code",
      "execution_count": null,
      "metadata": {
        "id": "j9n_t4O5IHfO"
      },
      "outputs": [],
      "source": [
        "import tensorflow as tf\n",
        "from tensorflow import keras\n",
        "from tensorflow.keras import layers\n",
        "\n",
        "\n",
        "class CTCLayer(layers.Layer):\n",
        "    def __init__(self, name=None):\n",
        "        super().__init__(name=name)\n",
        "        self.loss_fn = keras.backend.ctc_batch_cost\n",
        "\n",
        "    def call(self, y_true, y_pred):\n",
        "        batch_len = tf.cast(tf.shape(y_true)[0], dtype=\"int64\")\n",
        "        input_length = tf.cast(tf.shape(y_pred)[1], dtype=\"int64\")\n",
        "        label_length = tf.cast(tf.shape(y_true)[1], dtype=\"int64\")\n",
        "\n",
        "        input_length = input_length * tf.ones(shape=(batch_len, 1), dtype=\"int64\")\n",
        "        label_length = label_length * tf.ones(shape=(batch_len, 1), dtype=\"int64\")\n",
        "\n",
        "        loss = self.loss_fn(y_true, y_pred, input_length, label_length)\n",
        "        self.add_loss(loss)\n",
        "        return y_pred\n",
        "\n",
        "\n",
        "def build_deep_model_regularized(char_to_num):\n",
        "    input_img = layers.Input(shape=(None, 50, 1), name=\"image\", dtype=\"float32\")\n",
        "    labels = layers.Input(name=\"label\", shape=(None,), dtype=\"int64\") =\n",
        "    x = layers.Conv2D(32, (5, 5), padding='same', kernel_initializer='he_normal')(input_img)\n",
        "    x = layers.BatchNormalization()(x)\n",
        "    x = layers.Activation('relu')(x)\n",
        "    x = layers.MaxPooling2D(pool_size=(2, 2))(x)\n",
        "    x = layers.Dropout(0.25)(x)\n",
        "\n",
        "    x = layers.Conv2D(64, (5, 5), padding='same', kernel_initializer='he_normal')(x)\n",
        "    x = layers.BatchNormalization()(x)\n",
        "    x = layers.Activation('relu')(x)\n",
        "    x = layers.MaxPooling2D(pool_size=(2, 2))(x)\n",
        "    x = layers.Dropout(0.25)(x)\n",
        "\n",
        "    x = layers.Conv2D(128, (3, 3), padding='same', kernel_initializer='he_normal')(x)\n",
        "    x = layers.BatchNormalization()(x)\n",
        "    x = layers.Activation('relu')(x)\n",
        "    x = layers.MaxPooling2D(pool_size=(1, 2))(x)\n",
        "    x = layers.Dropout(0.25)(x)\n",
        "\n",
        "    x = layers.Conv2D(256, (3, 3), padding='same', kernel_initializer='he_normal')(x)\n",
        "    x = layers.BatchNormalization()(x)\n",
        "    x = layers.Activation('relu')(x)\n",
        "    x = layers.MaxPooling2D(pool_size=(1, 2))(x)\n",
        "    x = layers.Dropout(0.25)(x)\n",
        "\n",
        "    x = layers.Conv2D(512, (3, 3), padding='same', kernel_initializer='he_normal')(x)\n",
        "    x = layers.BatchNormalization()(x)\n",
        "    x = layers.Activation('relu')(x)\n",
        "    x = layers.Dropout(0.25)(x)\n",
        "\n",
        "    x = layers.Conv2D(512, (3, 3), padding='same', kernel_initializer='he_normal')(x)\n",
        "    x = layers.BatchNormalization()(x)\n",
        "    x = layers.Activation('relu')(x)\n",
        "    x = layers.Dropout(0.25)(x)\n",
        "\n",
        "    x = layers.Conv2D(512, (3, 3), padding='same', kernel_initializer='he_normal')(x)\n",
        "    x = layers.BatchNormalization()(x)\n",
        "    x = layers.Activation('relu')(x)\n",
        "    x = layers.Dropout(0.25)(x)\n",
        "\n",
        "    new_w = x.shape[2]\n",
        "    if new_w is None:\n",
        "        raise ValueError(\"Width is None. Please fix input shape.\")\n",
        "    x = layers.Reshape(target_shape=(-1, new_w * 512))(x)\n",
        "\n",
        "    x = layers.Dense(1024, activation='relu')(x)\n",
        "    x = layers.Dropout(0.25)(x)\n",
        "\n",
        "    x = layers.Bidirectional(layers.LSTM(256, return_sequences=True, dropout=0.25))(x)\n",
        "    x = layers.Bidirectional(layers.LSTM(256, return_sequences=True, dropout=0.25))(x)\n",
        "\n",
        "    x = layers.Dense(len(char_to_num.get_vocabulary()) + 1, activation=\"softmax\", name=\"dense\")(x)\n",
        "\n",
        "    output = CTCLayer(name=\"ctc_loss\")(labels, x)\n",
        "\n",
        "    model = keras.models.Model(inputs=[input_img, labels], outputs=output)\n",
        "    model.compile(optimizer=keras.optimizers.Adam(learning_rate=1e-4))\n",
        "    return model\n",
        "\n",
        "\n",
        "model = build_deep_model_regularized(char_to_num)\n",
        "\n"
      ]
    },
    {
      "cell_type": "code",
      "execution_count": null,
      "metadata": {
        "id": "KWGGDXcRJntx"
      },
      "outputs": [],
      "source": [
        "tensorboard_callback = keras.callbacks.TensorBoard(log_dir=\"./logs\")\n",
        "reduce_lr = keras.callbacks.ReduceLROnPlateau(monitor='loss', factor=0.1,\n",
        "                              patience=2, min_lr=0.000001)"
      ]
    },
    {
      "cell_type": "code",
      "execution_count": null,
      "metadata": {
        "id": "d9q6nKRNJqY1"
      },
      "outputs": [],
      "source": [
        "history = model.fit(\n",
        "    train_dataset,\n",
        "    validation_data=validation_dataset,\n",
        "    epochs=50,\n",
        "    callbacks=[reduce_lr, tensorboard_callback],\n",
        ")"
      ]
    },
    {
      "cell_type": "code",
      "execution_count": null,
      "metadata": {
        "id": "sy931u-iJrYK"
      },
      "outputs": [],
      "source": [
        "prediction_model = keras.models.Model(\n",
        "    model.inputs[0], model.get_layer(name=\"dense\").output\n",
        ")\n"
      ]
    },
    {
      "cell_type": "code",
      "execution_count": null,
      "metadata": {
        "id": "T7Fl9jnFYeUp"
      },
      "outputs": [],
      "source": [
        "def decode_batch_predictions(pred):\n",
        "    input_len = np.ones(pred.shape[0]) * pred.shape[1]\n",
        "    results = keras.backend.ctc_decode(pred, input_length=input_len, greedy=True)[0][0][:, :max_length]\n",
        "    output_text = []\n",
        "    for res in results:\n",
        "        res = tf.strings.reduce_join(num_to_char(res)).numpy().decode(\"utf-8\").replace('[UNK]','')\n",
        "        output_text.append(res)\n",
        "    return output_text"
      ]
    }
  ],
  "metadata": {
    "accelerator": "GPU",
    "colab": {
      "gpuType": "T4",
      "provenance": []
    },
    "kernelspec": {
      "display_name": "Python 3",
      "name": "python3"
    },
    "language_info": {
      "name": "python"
    }
  },
  "nbformat": 4,
  "nbformat_minor": 0
}
